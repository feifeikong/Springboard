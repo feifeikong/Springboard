{
 "cells": [
  {
   "cell_type": "markdown",
   "metadata": {},
   "source": [
    "This exercise will require you to pull some data from the Qunadl API. Qaundl is currently the most widely used aggregator of financial market data."
   ]
  },
  {
   "cell_type": "markdown",
   "metadata": {},
   "source": [
    "As a first step, you will need to register a free account on the http://www.quandl.com website."
   ]
  },
  {
   "cell_type": "markdown",
   "metadata": {},
   "source": [
    "After you register, you will be provided with a unique API key, that you should store:"
   ]
  },
  {
   "cell_type": "code",
   "execution_count": 1,
   "metadata": {},
   "outputs": [],
   "source": [
    "# Store the API key as a string - according to PEP8, constants are always named in all upper case\n",
    "API_KEY = 'MY_API_KEY'"
   ]
  },
  {
   "cell_type": "markdown",
   "metadata": {},
   "source": [
    "Qaundl has a large number of data sources, but, unfortunately, most of them require a Premium subscription. Still, there are also a good number of free datasets."
   ]
  },
  {
   "cell_type": "markdown",
   "metadata": {},
   "source": [
    "For this mini project, we will focus on equities data from the Frankfurt Stock Exhange (FSE), which is available for free. We'll try and analyze the stock prices of a company called Carl Zeiss Meditec, which manufactures tools for eye examinations, as well as medical lasers for laser eye surgery: https://www.zeiss.com/meditec/int/home.html. The company is listed under the stock ticker AFX_X."
   ]
  },
  {
   "cell_type": "markdown",
   "metadata": {},
   "source": [
    "You can find the detailed Quandl API instructions here: https://docs.quandl.com/docs/time-series"
   ]
  },
  {
   "cell_type": "markdown",
   "metadata": {},
   "source": [
    "While there is a dedicated Python package for connecting to the Quandl API, we would prefer that you use the *requests* package, which can be easily downloaded using *pip* or *conda*. You can find the documentation for the package here: http://docs.python-requests.org/en/master/ "
   ]
  },
  {
   "cell_type": "markdown",
   "metadata": {},
   "source": [
    "Finally, apart from the *requests* package, you are encouraged to not use any third party Python packages, such as *pandas*, and instead focus on what's available in the Python Standard Library (the *collections* module might come in handy: https://pymotw.com/3/collections/ ).\n",
    "Also, since you won't have access to DataFrames, you are encouraged to us Python's native data structures - preferably dictionaries, though some questions can also be answered using lists.\n",
    "You can read more on these data structures here: https://docs.python.org/3/tutorial/datastructures.html"
   ]
  },
  {
   "cell_type": "markdown",
   "metadata": {},
   "source": [
    "Keep in mind that the JSON responses you will be getting from the API map almost one-to-one to Python's dictionaries. Unfortunately, they can be very nested, so make sure you read up on indexing dictionaries in the documentation provided above."
   ]
  },
  {
   "cell_type": "code",
   "execution_count": 2,
   "metadata": {},
   "outputs": [],
   "source": [
    "# First, import the relevant modules\n",
    "import requests\n",
    "import collections"
   ]
  },
  {
   "cell_type": "code",
   "execution_count": 3,
   "metadata": {},
   "outputs": [],
   "source": [
    "# Now, call the Quandl API and pull out a small sample of the data (only one day) to get a glimpse\n",
    "# into the JSON structure that will be returned\n",
    "url = 'https://www.quandl.com/api/v3/datasets/FSE/AFX_X.json'\n",
    "params = dict(start_date='2020-12-01', end_date='2020-12-01', api_key=API_KEY)\n",
    "r = requests.get(url, params=params)"
   ]
  },
  {
   "cell_type": "code",
   "execution_count": 4,
   "metadata": {},
   "outputs": [
    {
     "data": {
      "text/plain": [
       "{'dataset': {'id': 10095370,\n",
       "  'dataset_code': 'AFX_X',\n",
       "  'database_code': 'FSE',\n",
       "  'name': 'Carl Zeiss Meditec (AFX_X)',\n",
       "  'description': 'Stock Prices for Carl Zeiss Meditec (2020-11-02) from the Frankfurt Stock Exchange.<br><br>Trading System: Xetra<br><br>ISIN: DE0005313704',\n",
       "  'refreshed_at': '2020-12-01T14:48:09.907Z',\n",
       "  'newest_available_date': '2020-12-01',\n",
       "  'oldest_available_date': '2000-06-07',\n",
       "  'column_names': ['Date',\n",
       "   'Open',\n",
       "   'High',\n",
       "   'Low',\n",
       "   'Close',\n",
       "   'Change',\n",
       "   'Traded Volume',\n",
       "   'Turnover',\n",
       "   'Last Price of the Day',\n",
       "   'Daily Traded Units',\n",
       "   'Daily Turnover'],\n",
       "  'frequency': 'daily',\n",
       "  'type': 'Time Series',\n",
       "  'premium': False,\n",
       "  'limit': None,\n",
       "  'transform': None,\n",
       "  'column_index': None,\n",
       "  'start_date': '2020-12-01',\n",
       "  'end_date': '2020-12-01',\n",
       "  'data': [['2020-12-01',\n",
       "    112.2,\n",
       "    112.2,\n",
       "    111.5,\n",
       "    112.0,\n",
       "    None,\n",
       "    51.0,\n",
       "    5703.0,\n",
       "    None,\n",
       "    None,\n",
       "    None]],\n",
       "  'collapse': None,\n",
       "  'order': None,\n",
       "  'database_id': 6129}}"
      ]
     },
     "execution_count": 4,
     "metadata": {},
     "output_type": "execute_result"
    }
   ],
   "source": [
    "# Inspect the JSON structure of the object you created, and take note of how nested it is,\n",
    "# as well as the overall structure\n",
    "r.json()"
   ]
  },
  {
   "cell_type": "markdown",
   "metadata": {},
   "source": [
    "These are your tasks for this mini project:\n",
    "\n",
    "1. Collect data from the Franfurt Stock Exchange, for the ticker AFX_X, for the whole year 2017 (keep in mind that the date format is YYYY-MM-DD).\n",
    "2. Convert the returned JSON object into a Python dictionary.\n",
    "3. Calculate what the highest and lowest opening prices were for the stock in this period.\n",
    "4. What was the largest change in any one day (based on High and Low price)?\n",
    "5. What was the largest change between any two days (based on Closing Price)?\n",
    "6. What was the average daily trading volume during this year?\n",
    "7. (Optional) What was the median trading volume during this year. (Note: you may need to implement your own function for calculating the median.)"
   ]
  },
  {
   "cell_type": "code",
   "execution_count": 5,
   "metadata": {},
   "outputs": [],
   "source": [
    "#Task 1\n",
    "#set parameters for extracting data from 2017\n",
    "#call Quandl API\n",
    "params = dict(start_date='2017-01-01', end_date='2017-12-31', api_key=API_KEY)\n",
    "r = requests.get(url, params=params)"
   ]
  },
  {
   "cell_type": "code",
   "execution_count": 6,
   "metadata": {},
   "outputs": [],
   "source": [
    "#Task 2\n",
    "#save json object as dictionary\n",
    "data = r.json()"
   ]
  },
  {
   "cell_type": "code",
   "execution_count": 7,
   "metadata": {},
   "outputs": [
    {
     "name": "stdout",
     "output_type": "stream",
     "text": [
      "Max opening price:  ('2017-12-14', 53.11)\n",
      "Min opening price:  ('2017-01-24', 34.0)\n"
     ]
    }
   ],
   "source": [
    "#Task 3\n",
    "#use dictionary comprehension to create a dictionary of date:opening price, skipping 'None' values\n",
    "#save max and min opening price as max and min values of dictionary\n",
    "opening_price = {item[0]:item[1] for item in data['dataset']['data'] if item[1] is not None}\n",
    "  \n",
    "max_open = max(opening_price.items(), key=lambda x: x[1])\n",
    "min_open = min(opening_price.items(), key=lambda x: x[1])\n",
    "\n",
    "print('Max opening price: ', max_open)\n",
    "print('Min opening price: ', min_open)"
   ]
  },
  {
   "cell_type": "code",
   "execution_count": 8,
   "metadata": {},
   "outputs": [
    {
     "name": "stdout",
     "output_type": "stream",
     "text": [
      "Largest change in one day:  ('2017-05-11', 2.8100000000000023)\n"
     ]
    }
   ],
   "source": [
    "#Task 4\n",
    "#use dictionary comprehension to create a dictionary of date:price difference (High - Low) per day\n",
    "#save max difference as the max value of dictionary\n",
    "price_diff = {item[0]:item[2]-item[3] for item in data['dataset']['data']}\n",
    "\n",
    "max_diff = max(price_diff.items(), key=lambda x: x[1])\n",
    "\n",
    "print('Largest change in one day: ', max_diff)"
   ]
  },
  {
   "cell_type": "code",
   "execution_count": 9,
   "metadata": {},
   "outputs": [
    {
     "name": "stdout",
     "output_type": "stream",
     "text": [
      "Largest change based on Closing Price:  ('2017-12-13', '2017-01-23') 19.03\n"
     ]
    }
   ],
   "source": [
    "#Task 5\n",
    "#use dictionary comprehension to create a dictionary of date:closing price\n",
    "#save max and min closing price as max and min values of dictionary\n",
    "#print dates of max and min, and difference of values\n",
    "closing_price = {item[0]:item[4] for item in data['dataset']['data']}\n",
    "\n",
    "max_close = max(closing_price.items(), key=lambda x: x[1])\n",
    "min_close = min(closing_price.items(), key=lambda x: x[1])\n",
    "\n",
    "print('Largest change based on Closing Price: ', (max_close[0], min_close[0]), max_close[1] - min_close[1])"
   ]
  },
  {
   "cell_type": "code",
   "execution_count": 10,
   "metadata": {},
   "outputs": [
    {
     "name": "stdout",
     "output_type": "stream",
     "text": [
      "Average daily trading volume:  89124.33725490196\n"
     ]
    }
   ],
   "source": [
    "#Task 6\n",
    "#use list comprehension to create a list of daily traded volume\n",
    "#save average volume as sum / length of daily values\n",
    "traded_volume = [item[6] for item in data['dataset']['data']]\n",
    "\n",
    "avg_volume = sum(traded_volume) / len(traded_volume)\n",
    "\n",
    "print('Average daily trading volume: ', avg_volume)"
   ]
  },
  {
   "cell_type": "code",
   "execution_count": 11,
   "metadata": {},
   "outputs": [
    {
     "name": "stdout",
     "output_type": "stream",
     "text": [
      "Median daily trading volume:  76286.0\n"
     ]
    }
   ],
   "source": [
    "#Task 7\n",
    "#define function 'median' that takes in a list, sorts it, and finds the median depending if there are even or odd number of elements\n",
    "#if even, median is the average of 2 middle values\n",
    "#if odd, median is the middle value\n",
    "#apply median function on traded_volume list\n",
    "\n",
    "def median(values_list):\n",
    "    values_list.sort()\n",
    "    if len(values_list) % 2 == 0:\n",
    "        med = (values_list[len(values_list)/2 - 1] + values_list[len(values_list)/2]) / 2\n",
    "    else:\n",
    "        med = values_list[round(len(values_list)/2) - 1]\n",
    "    return med\n",
    "\n",
    "med_volume = median(traded_volume)\n",
    "\n",
    "print('Median daily trading volume: ', med_volume)"
   ]
  }
 ],
 "metadata": {
  "kernelspec": {
   "display_name": "Python 3",
   "language": "python",
   "name": "python3"
  },
  "language_info": {
   "codemirror_mode": {
    "name": "ipython",
    "version": 3
   },
   "file_extension": ".py",
   "mimetype": "text/x-python",
   "name": "python",
   "nbconvert_exporter": "python",
   "pygments_lexer": "ipython3",
   "version": "3.8.5"
  }
 },
 "nbformat": 4,
 "nbformat_minor": 2
}
