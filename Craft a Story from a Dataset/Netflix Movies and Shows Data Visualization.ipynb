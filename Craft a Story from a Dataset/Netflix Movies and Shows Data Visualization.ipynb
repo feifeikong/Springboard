{
 "cells": [
  {
   "cell_type": "code",
   "execution_count": 1,
   "metadata": {},
   "outputs": [],
   "source": [
    "import numpy as np\n",
    "import pandas as pd\n",
    "import matplotlib.pyplot as plt"
   ]
  },
  {
   "cell_type": "code",
   "execution_count": 2,
   "metadata": {},
   "outputs": [],
   "source": [
    "data = pd.read_csv('netflix_list.csv')"
   ]
  },
  {
   "cell_type": "code",
   "execution_count": 3,
   "metadata": {},
   "outputs": [
    {
     "data": {
      "text/html": [
       "<div>\n",
       "<style scoped>\n",
       "    .dataframe tbody tr th:only-of-type {\n",
       "        vertical-align: middle;\n",
       "    }\n",
       "\n",
       "    .dataframe tbody tr th {\n",
       "        vertical-align: top;\n",
       "    }\n",
       "\n",
       "    .dataframe thead th {\n",
       "        text-align: right;\n",
       "    }\n",
       "</style>\n",
       "<table border=\"1\" class=\"dataframe\">\n",
       "  <thead>\n",
       "    <tr style=\"text-align: right;\">\n",
       "      <th></th>\n",
       "      <th>imdb_id</th>\n",
       "      <th>title</th>\n",
       "      <th>popular_rank</th>\n",
       "      <th>certificate</th>\n",
       "      <th>startYear</th>\n",
       "      <th>endYear</th>\n",
       "      <th>episodes</th>\n",
       "      <th>runtime</th>\n",
       "      <th>type</th>\n",
       "      <th>orign_country</th>\n",
       "      <th>language</th>\n",
       "      <th>plot</th>\n",
       "      <th>summary</th>\n",
       "      <th>rating</th>\n",
       "      <th>numVotes</th>\n",
       "      <th>genres</th>\n",
       "      <th>isAdult</th>\n",
       "      <th>cast</th>\n",
       "      <th>image_url</th>\n",
       "    </tr>\n",
       "  </thead>\n",
       "  <tbody>\n",
       "    <tr>\n",
       "      <th>0</th>\n",
       "      <td>tt4052886</td>\n",
       "      <td>Lucifer</td>\n",
       "      <td>1</td>\n",
       "      <td>15</td>\n",
       "      <td>2016.0</td>\n",
       "      <td>NaN</td>\n",
       "      <td>93.0</td>\n",
       "      <td>42</td>\n",
       "      <td>tvSeries</td>\n",
       "      <td>United States</td>\n",
       "      <td>English</td>\n",
       "      <td>Lucifer Morningstar has decided he's had enoug...</td>\n",
       "      <td>Lucifer Morningstar, bored from his sulking li...</td>\n",
       "      <td>8.1</td>\n",
       "      <td>250884.0</td>\n",
       "      <td>Crime,Drama,Fantasy</td>\n",
       "      <td>0</td>\n",
       "      <td>['Tom Ellis', 'Lauren German', 'Lesley-Ann Bra...</td>\n",
       "      <td>https://m.media-amazon.com/images/M/MV5BNzY1Yj...</td>\n",
       "    </tr>\n",
       "    <tr>\n",
       "      <th>1</th>\n",
       "      <td>tt0993840</td>\n",
       "      <td>Army of the Dead</td>\n",
       "      <td>2</td>\n",
       "      <td>18</td>\n",
       "      <td>2021.0</td>\n",
       "      <td>NaN</td>\n",
       "      <td>NaN</td>\n",
       "      <td>148</td>\n",
       "      <td>movie</td>\n",
       "      <td>United States</td>\n",
       "      <td>English</td>\n",
       "      <td>Following a zombie outbreak in Las Vegas, a gr...</td>\n",
       "      <td>With the abandoned, walled city of Las Vegas o...</td>\n",
       "      <td>5.8</td>\n",
       "      <td>110780.0</td>\n",
       "      <td>Action,Crime,Horror</td>\n",
       "      <td>0</td>\n",
       "      <td>['Dave Bautista', 'Ella Purnell', 'Ana de la R...</td>\n",
       "      <td>https://m.media-amazon.com/images/M/MV5BNGY0Nz...</td>\n",
       "    </tr>\n",
       "    <tr>\n",
       "      <th>2</th>\n",
       "      <td>tt7255502</td>\n",
       "      <td>The Kominsky Method</td>\n",
       "      <td>3</td>\n",
       "      <td>18</td>\n",
       "      <td>2018.0</td>\n",
       "      <td>2021.0</td>\n",
       "      <td>22.0</td>\n",
       "      <td>30</td>\n",
       "      <td>tvSeries</td>\n",
       "      <td>United States</td>\n",
       "      <td>English</td>\n",
       "      <td>An aging actor, who long ago enjoyed a brush w...</td>\n",
       "      <td>Michael Douglas plays an actor who made it big...</td>\n",
       "      <td>8.2</td>\n",
       "      <td>28795.0</td>\n",
       "      <td>Comedy,Drama</td>\n",
       "      <td>0</td>\n",
       "      <td>['Michael Douglas', 'Sarah Baker', 'Graham Rog...</td>\n",
       "      <td>https://m.media-amazon.com/images/M/MV5BMzA0YT...</td>\n",
       "    </tr>\n",
       "    <tr>\n",
       "      <th>3</th>\n",
       "      <td>tt0108778</td>\n",
       "      <td>Friends</td>\n",
       "      <td>4</td>\n",
       "      <td>13+</td>\n",
       "      <td>1994.0</td>\n",
       "      <td>2004.0</td>\n",
       "      <td>235.0</td>\n",
       "      <td>22</td>\n",
       "      <td>tvSeries</td>\n",
       "      <td>United States</td>\n",
       "      <td>English</td>\n",
       "      <td>Follows the personal and professional lives of...</td>\n",
       "      <td>Ross Geller, Rachel Green, Monica Geller, Joey...</td>\n",
       "      <td>8.9</td>\n",
       "      <td>861843.0</td>\n",
       "      <td>Comedy,Romance</td>\n",
       "      <td>0</td>\n",
       "      <td>['Jennifer Aniston', 'Courteney Cox', 'Lisa Ku...</td>\n",
       "      <td>https://m.media-amazon.com/images/M/MV5BNDVkYj...</td>\n",
       "    </tr>\n",
       "    <tr>\n",
       "      <th>4</th>\n",
       "      <td>tt9251798</td>\n",
       "      <td>Ragnarok</td>\n",
       "      <td>5</td>\n",
       "      <td>18</td>\n",
       "      <td>2020.0</td>\n",
       "      <td>NaN</td>\n",
       "      <td>12.0</td>\n",
       "      <td>45</td>\n",
       "      <td>tvSeries</td>\n",
       "      <td>Norway</td>\n",
       "      <td>Norwegian</td>\n",
       "      <td>A small Norwegian town experiencing warm winte...</td>\n",
       "      <td>In the small fictional town of Edda coming of ...</td>\n",
       "      <td>7.5</td>\n",
       "      <td>26606.0</td>\n",
       "      <td>Action,Drama,Fantasy</td>\n",
       "      <td>0</td>\n",
       "      <td>['David Stakston', 'Jonas Strand Gravli', 'Her...</td>\n",
       "      <td>https://m.media-amazon.com/images/M/MV5BODM3NT...</td>\n",
       "    </tr>\n",
       "  </tbody>\n",
       "</table>\n",
       "</div>"
      ],
      "text/plain": [
       "     imdb_id                title popular_rank certificate  startYear  \\\n",
       "0  tt4052886              Lucifer            1          15     2016.0   \n",
       "1  tt0993840     Army of the Dead            2          18     2021.0   \n",
       "2  tt7255502  The Kominsky Method            3          18     2018.0   \n",
       "3  tt0108778              Friends            4         13+     1994.0   \n",
       "4  tt9251798             Ragnarok            5          18     2020.0   \n",
       "\n",
       "   endYear  episodes runtime      type  orign_country   language  \\\n",
       "0      NaN      93.0      42  tvSeries  United States    English   \n",
       "1      NaN       NaN     148     movie  United States    English   \n",
       "2   2021.0      22.0      30  tvSeries  United States    English   \n",
       "3   2004.0     235.0      22  tvSeries  United States    English   \n",
       "4      NaN      12.0      45  tvSeries         Norway  Norwegian   \n",
       "\n",
       "                                                plot  \\\n",
       "0  Lucifer Morningstar has decided he's had enoug...   \n",
       "1  Following a zombie outbreak in Las Vegas, a gr...   \n",
       "2  An aging actor, who long ago enjoyed a brush w...   \n",
       "3  Follows the personal and professional lives of...   \n",
       "4  A small Norwegian town experiencing warm winte...   \n",
       "\n",
       "                                             summary  rating  numVotes  \\\n",
       "0  Lucifer Morningstar, bored from his sulking li...     8.1  250884.0   \n",
       "1  With the abandoned, walled city of Las Vegas o...     5.8  110780.0   \n",
       "2  Michael Douglas plays an actor who made it big...     8.2   28795.0   \n",
       "3  Ross Geller, Rachel Green, Monica Geller, Joey...     8.9  861843.0   \n",
       "4  In the small fictional town of Edda coming of ...     7.5   26606.0   \n",
       "\n",
       "                 genres  isAdult  \\\n",
       "0   Crime,Drama,Fantasy        0   \n",
       "1   Action,Crime,Horror        0   \n",
       "2          Comedy,Drama        0   \n",
       "3        Comedy,Romance        0   \n",
       "4  Action,Drama,Fantasy        0   \n",
       "\n",
       "                                                cast  \\\n",
       "0  ['Tom Ellis', 'Lauren German', 'Lesley-Ann Bra...   \n",
       "1  ['Dave Bautista', 'Ella Purnell', 'Ana de la R...   \n",
       "2  ['Michael Douglas', 'Sarah Baker', 'Graham Rog...   \n",
       "3  ['Jennifer Aniston', 'Courteney Cox', 'Lisa Ku...   \n",
       "4  ['David Stakston', 'Jonas Strand Gravli', 'Her...   \n",
       "\n",
       "                                           image_url  \n",
       "0  https://m.media-amazon.com/images/M/MV5BNzY1Yj...  \n",
       "1  https://m.media-amazon.com/images/M/MV5BNGY0Nz...  \n",
       "2  https://m.media-amazon.com/images/M/MV5BMzA0YT...  \n",
       "3  https://m.media-amazon.com/images/M/MV5BNDVkYj...  \n",
       "4  https://m.media-amazon.com/images/M/MV5BODM3NT...  "
      ]
     },
     "execution_count": 3,
     "metadata": {},
     "output_type": "execute_result"
    }
   ],
   "source": [
    "data.head()"
   ]
  },
  {
   "cell_type": "code",
   "execution_count": 4,
   "metadata": {},
   "outputs": [
    {
     "name": "stdout",
     "output_type": "stream",
     "text": [
      "<class 'pandas.core.frame.DataFrame'>\n",
      "RangeIndex: 7008 entries, 0 to 7007\n",
      "Data columns (total 19 columns):\n",
      " #   Column         Non-Null Count  Dtype  \n",
      "---  ------         --------------  -----  \n",
      " 0   imdb_id        7008 non-null   object \n",
      " 1   title          7008 non-null   object \n",
      " 2   popular_rank   7008 non-null   object \n",
      " 3   certificate    2409 non-null   object \n",
      " 4   startYear      6493 non-null   float64\n",
      " 5   endYear        1126 non-null   float64\n",
      " 6   episodes       2304 non-null   float64\n",
      " 7   runtime        7006 non-null   object \n",
      " 8   type           7006 non-null   object \n",
      " 9   orign_country  7008 non-null   object \n",
      " 10  language       7008 non-null   object \n",
      " 11  plot           6609 non-null   object \n",
      " 12  summary        7008 non-null   object \n",
      " 13  rating         6000 non-null   float64\n",
      " 14  numVotes       6000 non-null   float64\n",
      " 15  genres         7006 non-null   object \n",
      " 16  isAdult        7008 non-null   int64  \n",
      " 17  cast           7008 non-null   object \n",
      " 18  image_url      7008 non-null   object \n",
      "dtypes: float64(5), int64(1), object(13)\n",
      "memory usage: 1.0+ MB\n"
     ]
    }
   ],
   "source": [
    "data.info()"
   ]
  },
  {
   "cell_type": "code",
   "execution_count": 5,
   "metadata": {},
   "outputs": [],
   "source": [
    "#create dummy variables to contain all the genres each show is categorized as\n",
    "\n",
    "#first, create a list of all unique genres\n",
    "genres_list = []\n",
    "for value in list(data.genres):\n",
    "    genre_list = str(value).split(',')\n",
    "    for genre in genre_list:\n",
    "        if genre not in genres_list:\n",
    "            genres_list.append(genre)\n",
    "            \n",
    "#add each genre as a column to the dataframe with value 0\n",
    "for genre in genres_list:\n",
    "    data[genre] = 0\n",
    "    \n",
    "#iterate through the original genres and change value to 1 for respective column\n",
    "for row in data.genres.items():\n",
    "    genre_list = str(row[1]).split(',')\n",
    "    for genre in genre_list:\n",
    "        for column in data.columns:\n",
    "            if genre == column:\n",
    "                data.loc[row[0], column] = 1\n",
    "\n",
    "#drop null genre columns\n",
    "data = data[['imdb_id', 'title', 'popular_rank', 'certificate', 'startYear',\n",
    "       'endYear', 'episodes', 'runtime', 'type', 'orign_country', 'language',\n",
    "       'plot', 'summary', 'rating', 'numVotes', 'genres', 'isAdult', 'cast',\n",
    "       'image_url', 'Crime', 'Drama', 'Fantasy', 'Action', 'Horror', 'Comedy',\n",
    "       'Romance', 'Thriller', 'Adventure', 'Mystery', 'Music', 'Animation',\n",
    "       'Biography', 'History', 'Sci-Fi', 'Family', 'Sport', 'Musical', 'War',\n",
    "       'Western', 'Reality-TV', 'Documentary', 'Game-Show', 'Short',\n",
    "       'Film-Noir', 'Talk-Show', 'News']]"
   ]
  },
  {
   "cell_type": "code",
   "execution_count": 6,
   "metadata": {},
   "outputs": [
    {
     "data": {
      "text/html": [
       "<div>\n",
       "<style scoped>\n",
       "    .dataframe tbody tr th:only-of-type {\n",
       "        vertical-align: middle;\n",
       "    }\n",
       "\n",
       "    .dataframe tbody tr th {\n",
       "        vertical-align: top;\n",
       "    }\n",
       "\n",
       "    .dataframe thead th {\n",
       "        text-align: right;\n",
       "    }\n",
       "</style>\n",
       "<table border=\"1\" class=\"dataframe\">\n",
       "  <thead>\n",
       "    <tr style=\"text-align: right;\">\n",
       "      <th></th>\n",
       "      <th>startYear</th>\n",
       "      <th>endYear</th>\n",
       "      <th>episodes</th>\n",
       "      <th>rating</th>\n",
       "      <th>numVotes</th>\n",
       "      <th>isAdult</th>\n",
       "      <th>Crime</th>\n",
       "      <th>Drama</th>\n",
       "      <th>Fantasy</th>\n",
       "      <th>Action</th>\n",
       "      <th>...</th>\n",
       "      <th>Musical</th>\n",
       "      <th>War</th>\n",
       "      <th>Western</th>\n",
       "      <th>Reality-TV</th>\n",
       "      <th>Documentary</th>\n",
       "      <th>Game-Show</th>\n",
       "      <th>Short</th>\n",
       "      <th>Film-Noir</th>\n",
       "      <th>Talk-Show</th>\n",
       "      <th>News</th>\n",
       "    </tr>\n",
       "  </thead>\n",
       "  <tbody>\n",
       "    <tr>\n",
       "      <th>count</th>\n",
       "      <td>6493.000000</td>\n",
       "      <td>1126.000000</td>\n",
       "      <td>2304.000000</td>\n",
       "      <td>6000.000000</td>\n",
       "      <td>6.000000e+03</td>\n",
       "      <td>7008.0</td>\n",
       "      <td>7008.000000</td>\n",
       "      <td>7008.000000</td>\n",
       "      <td>7008.000000</td>\n",
       "      <td>7008.000000</td>\n",
       "      <td>...</td>\n",
       "      <td>7008.000000</td>\n",
       "      <td>7008.000000</td>\n",
       "      <td>7008.000000</td>\n",
       "      <td>7008.000000</td>\n",
       "      <td>7008.000000</td>\n",
       "      <td>7008.000000</td>\n",
       "      <td>7008.000000</td>\n",
       "      <td>7008.00000</td>\n",
       "      <td>7008.000000</td>\n",
       "      <td>7008.000000</td>\n",
       "    </tr>\n",
       "    <tr>\n",
       "      <th>mean</th>\n",
       "      <td>2015.606653</td>\n",
       "      <td>2016.613677</td>\n",
       "      <td>38.510851</td>\n",
       "      <td>6.696400</td>\n",
       "      <td>1.961778e+04</td>\n",
       "      <td>0.0</td>\n",
       "      <td>0.142409</td>\n",
       "      <td>0.406393</td>\n",
       "      <td>0.054795</td>\n",
       "      <td>0.175942</td>\n",
       "      <td>...</td>\n",
       "      <td>0.007420</td>\n",
       "      <td>0.006992</td>\n",
       "      <td>0.003567</td>\n",
       "      <td>0.028396</td>\n",
       "      <td>0.145548</td>\n",
       "      <td>0.004994</td>\n",
       "      <td>0.021119</td>\n",
       "      <td>0.00157</td>\n",
       "      <td>0.005422</td>\n",
       "      <td>0.002997</td>\n",
       "    </tr>\n",
       "    <tr>\n",
       "      <th>std</th>\n",
       "      <td>7.855886</td>\n",
       "      <td>5.195806</td>\n",
       "      <td>237.894838</td>\n",
       "      <td>1.209824</td>\n",
       "      <td>7.975237e+04</td>\n",
       "      <td>0.0</td>\n",
       "      <td>0.349494</td>\n",
       "      <td>0.491195</td>\n",
       "      <td>0.227595</td>\n",
       "      <td>0.380798</td>\n",
       "      <td>...</td>\n",
       "      <td>0.085826</td>\n",
       "      <td>0.083331</td>\n",
       "      <td>0.059625</td>\n",
       "      <td>0.166114</td>\n",
       "      <td>0.352678</td>\n",
       "      <td>0.070499</td>\n",
       "      <td>0.143790</td>\n",
       "      <td>0.03959</td>\n",
       "      <td>0.073442</td>\n",
       "      <td>0.054663</td>\n",
       "    </tr>\n",
       "    <tr>\n",
       "      <th>min</th>\n",
       "      <td>1932.000000</td>\n",
       "      <td>1969.000000</td>\n",
       "      <td>1.000000</td>\n",
       "      <td>1.700000</td>\n",
       "      <td>5.000000e+00</td>\n",
       "      <td>0.0</td>\n",
       "      <td>0.000000</td>\n",
       "      <td>0.000000</td>\n",
       "      <td>0.000000</td>\n",
       "      <td>0.000000</td>\n",
       "      <td>...</td>\n",
       "      <td>0.000000</td>\n",
       "      <td>0.000000</td>\n",
       "      <td>0.000000</td>\n",
       "      <td>0.000000</td>\n",
       "      <td>0.000000</td>\n",
       "      <td>0.000000</td>\n",
       "      <td>0.000000</td>\n",
       "      <td>0.00000</td>\n",
       "      <td>0.000000</td>\n",
       "      <td>0.000000</td>\n",
       "    </tr>\n",
       "    <tr>\n",
       "      <th>25%</th>\n",
       "      <td>2015.000000</td>\n",
       "      <td>2016.000000</td>\n",
       "      <td>8.000000</td>\n",
       "      <td>6.000000</td>\n",
       "      <td>3.040000e+02</td>\n",
       "      <td>0.0</td>\n",
       "      <td>0.000000</td>\n",
       "      <td>0.000000</td>\n",
       "      <td>0.000000</td>\n",
       "      <td>0.000000</td>\n",
       "      <td>...</td>\n",
       "      <td>0.000000</td>\n",
       "      <td>0.000000</td>\n",
       "      <td>0.000000</td>\n",
       "      <td>0.000000</td>\n",
       "      <td>0.000000</td>\n",
       "      <td>0.000000</td>\n",
       "      <td>0.000000</td>\n",
       "      <td>0.00000</td>\n",
       "      <td>0.000000</td>\n",
       "      <td>0.000000</td>\n",
       "    </tr>\n",
       "    <tr>\n",
       "      <th>50%</th>\n",
       "      <td>2017.000000</td>\n",
       "      <td>2018.000000</td>\n",
       "      <td>14.000000</td>\n",
       "      <td>6.800000</td>\n",
       "      <td>1.312000e+03</td>\n",
       "      <td>0.0</td>\n",
       "      <td>0.000000</td>\n",
       "      <td>0.000000</td>\n",
       "      <td>0.000000</td>\n",
       "      <td>0.000000</td>\n",
       "      <td>...</td>\n",
       "      <td>0.000000</td>\n",
       "      <td>0.000000</td>\n",
       "      <td>0.000000</td>\n",
       "      <td>0.000000</td>\n",
       "      <td>0.000000</td>\n",
       "      <td>0.000000</td>\n",
       "      <td>0.000000</td>\n",
       "      <td>0.00000</td>\n",
       "      <td>0.000000</td>\n",
       "      <td>0.000000</td>\n",
       "    </tr>\n",
       "    <tr>\n",
       "      <th>75%</th>\n",
       "      <td>2019.000000</td>\n",
       "      <td>2019.000000</td>\n",
       "      <td>30.000000</td>\n",
       "      <td>7.600000</td>\n",
       "      <td>6.166750e+03</td>\n",
       "      <td>0.0</td>\n",
       "      <td>0.000000</td>\n",
       "      <td>1.000000</td>\n",
       "      <td>0.000000</td>\n",
       "      <td>0.000000</td>\n",
       "      <td>...</td>\n",
       "      <td>0.000000</td>\n",
       "      <td>0.000000</td>\n",
       "      <td>0.000000</td>\n",
       "      <td>0.000000</td>\n",
       "      <td>0.000000</td>\n",
       "      <td>0.000000</td>\n",
       "      <td>0.000000</td>\n",
       "      <td>0.00000</td>\n",
       "      <td>0.000000</td>\n",
       "      <td>0.000000</td>\n",
       "    </tr>\n",
       "    <tr>\n",
       "      <th>max</th>\n",
       "      <td>2022.000000</td>\n",
       "      <td>2022.000000</td>\n",
       "      <td>8358.000000</td>\n",
       "      <td>9.700000</td>\n",
       "      <td>1.697849e+06</td>\n",
       "      <td>0.0</td>\n",
       "      <td>1.000000</td>\n",
       "      <td>1.000000</td>\n",
       "      <td>1.000000</td>\n",
       "      <td>1.000000</td>\n",
       "      <td>...</td>\n",
       "      <td>1.000000</td>\n",
       "      <td>1.000000</td>\n",
       "      <td>1.000000</td>\n",
       "      <td>1.000000</td>\n",
       "      <td>1.000000</td>\n",
       "      <td>1.000000</td>\n",
       "      <td>1.000000</td>\n",
       "      <td>1.00000</td>\n",
       "      <td>1.000000</td>\n",
       "      <td>1.000000</td>\n",
       "    </tr>\n",
       "  </tbody>\n",
       "</table>\n",
       "<p>8 rows × 33 columns</p>\n",
       "</div>"
      ],
      "text/plain": [
       "         startYear      endYear     episodes       rating      numVotes  \\\n",
       "count  6493.000000  1126.000000  2304.000000  6000.000000  6.000000e+03   \n",
       "mean   2015.606653  2016.613677    38.510851     6.696400  1.961778e+04   \n",
       "std       7.855886     5.195806   237.894838     1.209824  7.975237e+04   \n",
       "min    1932.000000  1969.000000     1.000000     1.700000  5.000000e+00   \n",
       "25%    2015.000000  2016.000000     8.000000     6.000000  3.040000e+02   \n",
       "50%    2017.000000  2018.000000    14.000000     6.800000  1.312000e+03   \n",
       "75%    2019.000000  2019.000000    30.000000     7.600000  6.166750e+03   \n",
       "max    2022.000000  2022.000000  8358.000000     9.700000  1.697849e+06   \n",
       "\n",
       "       isAdult        Crime        Drama      Fantasy       Action  ...  \\\n",
       "count   7008.0  7008.000000  7008.000000  7008.000000  7008.000000  ...   \n",
       "mean       0.0     0.142409     0.406393     0.054795     0.175942  ...   \n",
       "std        0.0     0.349494     0.491195     0.227595     0.380798  ...   \n",
       "min        0.0     0.000000     0.000000     0.000000     0.000000  ...   \n",
       "25%        0.0     0.000000     0.000000     0.000000     0.000000  ...   \n",
       "50%        0.0     0.000000     0.000000     0.000000     0.000000  ...   \n",
       "75%        0.0     0.000000     1.000000     0.000000     0.000000  ...   \n",
       "max        0.0     1.000000     1.000000     1.000000     1.000000  ...   \n",
       "\n",
       "           Musical          War      Western   Reality-TV  Documentary  \\\n",
       "count  7008.000000  7008.000000  7008.000000  7008.000000  7008.000000   \n",
       "mean      0.007420     0.006992     0.003567     0.028396     0.145548   \n",
       "std       0.085826     0.083331     0.059625     0.166114     0.352678   \n",
       "min       0.000000     0.000000     0.000000     0.000000     0.000000   \n",
       "25%       0.000000     0.000000     0.000000     0.000000     0.000000   \n",
       "50%       0.000000     0.000000     0.000000     0.000000     0.000000   \n",
       "75%       0.000000     0.000000     0.000000     0.000000     0.000000   \n",
       "max       1.000000     1.000000     1.000000     1.000000     1.000000   \n",
       "\n",
       "         Game-Show        Short   Film-Noir    Talk-Show         News  \n",
       "count  7008.000000  7008.000000  7008.00000  7008.000000  7008.000000  \n",
       "mean      0.004994     0.021119     0.00157     0.005422     0.002997  \n",
       "std       0.070499     0.143790     0.03959     0.073442     0.054663  \n",
       "min       0.000000     0.000000     0.00000     0.000000     0.000000  \n",
       "25%       0.000000     0.000000     0.00000     0.000000     0.000000  \n",
       "50%       0.000000     0.000000     0.00000     0.000000     0.000000  \n",
       "75%       0.000000     0.000000     0.00000     0.000000     0.000000  \n",
       "max       1.000000     1.000000     1.00000     1.000000     1.000000  \n",
       "\n",
       "[8 rows x 33 columns]"
      ]
     },
     "execution_count": 6,
     "metadata": {},
     "output_type": "execute_result"
    }
   ],
   "source": [
    "data.describe()"
   ]
  },
  {
   "cell_type": "code",
   "execution_count": 7,
   "metadata": {},
   "outputs": [],
   "source": [
    "data.drop('isAdult', axis=1, inplace=True)"
   ]
  },
  {
   "cell_type": "code",
   "execution_count": 8,
   "metadata": {},
   "outputs": [],
   "source": [
    "cleaned_data = data.drop(['plot', 'summary', 'genres', 'cast', 'image_url'], axis=1)"
   ]
  },
  {
   "cell_type": "code",
   "execution_count": 9,
   "metadata": {},
   "outputs": [],
   "source": [
    "cleaned_data.to_csv('cleaned_data.csv')"
   ]
  },
  {
   "cell_type": "code",
   "execution_count": 10,
   "metadata": {
    "scrolled": true
   },
   "outputs": [
    {
     "name": "stdout",
     "output_type": "stream",
     "text": [
      "<class 'pandas.core.frame.DataFrame'>\n",
      "RangeIndex: 7008 entries, 0 to 7007\n",
      "Data columns (total 40 columns):\n",
      " #   Column         Non-Null Count  Dtype  \n",
      "---  ------         --------------  -----  \n",
      " 0   imdb_id        7008 non-null   object \n",
      " 1   title          7008 non-null   object \n",
      " 2   popular_rank   7008 non-null   object \n",
      " 3   certificate    2409 non-null   object \n",
      " 4   startYear      6493 non-null   float64\n",
      " 5   endYear        1126 non-null   float64\n",
      " 6   episodes       2304 non-null   float64\n",
      " 7   runtime        7006 non-null   object \n",
      " 8   type           7006 non-null   object \n",
      " 9   orign_country  7008 non-null   object \n",
      " 10  language       7008 non-null   object \n",
      " 11  rating         6000 non-null   float64\n",
      " 12  numVotes       6000 non-null   float64\n",
      " 13  Crime          7008 non-null   int64  \n",
      " 14  Drama          7008 non-null   int64  \n",
      " 15  Fantasy        7008 non-null   int64  \n",
      " 16  Action         7008 non-null   int64  \n",
      " 17  Horror         7008 non-null   int64  \n",
      " 18  Comedy         7008 non-null   int64  \n",
      " 19  Romance        7008 non-null   int64  \n",
      " 20  Thriller       7008 non-null   int64  \n",
      " 21  Adventure      7008 non-null   int64  \n",
      " 22  Mystery        7008 non-null   int64  \n",
      " 23  Music          7008 non-null   int64  \n",
      " 24  Animation      7008 non-null   int64  \n",
      " 25  Biography      7008 non-null   int64  \n",
      " 26  History        7008 non-null   int64  \n",
      " 27  Sci-Fi         7008 non-null   int64  \n",
      " 28  Family         7008 non-null   int64  \n",
      " 29  Sport          7008 non-null   int64  \n",
      " 30  Musical        7008 non-null   int64  \n",
      " 31  War            7008 non-null   int64  \n",
      " 32  Western        7008 non-null   int64  \n",
      " 33  Reality-TV     7008 non-null   int64  \n",
      " 34  Documentary    7008 non-null   int64  \n",
      " 35  Game-Show      7008 non-null   int64  \n",
      " 36  Short          7008 non-null   int64  \n",
      " 37  Film-Noir      7008 non-null   int64  \n",
      " 38  Talk-Show      7008 non-null   int64  \n",
      " 39  News           7008 non-null   int64  \n",
      "dtypes: float64(5), int64(27), object(8)\n",
      "memory usage: 2.1+ MB\n"
     ]
    }
   ],
   "source": [
    "cleaned_data.info()"
   ]
  },
  {
   "cell_type": "code",
   "execution_count": 11,
   "metadata": {},
   "outputs": [],
   "source": [
    "#We would like to take a look at the types of genres that Netflix offers, and how they have changed over the years.\n",
    "#Initial hypothesis is that there is an increase in science fiction titles in the last 10 years, and the top genres of \n",
    "#movies and TV shows might differ."
   ]
  },
  {
   "cell_type": "code",
   "execution_count": 12,
   "metadata": {},
   "outputs": [
    {
     "data": {
      "image/png": "[encoded data removed]",
      "text/plain": [
       "<Figure size 432x288 with 1 Axes>"
      ]
     },
     "metadata": {
      "needs_background": "light"
     },
     "output_type": "display_data"
    }
   ],
   "source": [
    "#Start Year of Listings\n",
    "\n",
    "_ = plt.hist(cleaned_data['startYear'])\n",
    "_ = plt.xlabel('Start Year')\n",
    "_ = plt.ylabel('Number of Shows & Movies')\n",
    "plt.show()"
   ]
  },
  {
   "cell_type": "code",
   "execution_count": 13,
   "metadata": {
    "scrolled": true
   },
   "outputs": [
    {
     "data": {
      "image/png": "[encoded data removed]",
      "text/plain": [
       "<Figure size 432x288 with 1 Axes>"
      ]
     },
     "metadata": {
      "needs_background": "light"
     },
     "output_type": "display_data"
    }
   ],
   "source": [
    "#End Year of Listings\n",
    "\n",
    "_ = plt.hist(cleaned_data['endYear'])\n",
    "_ = plt.xlabel('End Year')\n",
    "_ = plt.ylabel('Number of Shows & Movies')\n",
    "plt.show()"
   ]
  },
  {
   "cell_type": "code",
   "execution_count": 14,
   "metadata": {},
   "outputs": [],
   "source": [
    "#Most listings on Netflix were produced in the last decade."
   ]
  },
  {
   "cell_type": "code",
   "execution_count": 15,
   "metadata": {
    "scrolled": false
   },
   "outputs": [
    {
     "data": {
      "image/png": "[encoded data removed]",
      "text/plain": [
       "<Figure size 432x288 with 1 Axes>"
      ]
     },
     "metadata": {
      "needs_background": "light"
     },
     "output_type": "display_data"
    }
   ],
   "source": [
    "#Types of Listings that Netflix offers\n",
    "\n",
    "_ = cleaned_data['type'].value_counts().plot(kind='bar')\n",
    "plt.show()"
   ]
  },
  {
   "cell_type": "code",
   "execution_count": 16,
   "metadata": {
    "scrolled": true
   },
   "outputs": [
    {
     "data": {
      "image/png": "[encoded data removed]",
      "text/plain": [
       "<Figure size 432x288 with 1 Axes>"
      ]
     },
     "metadata": {
      "needs_background": "light"
     },
     "output_type": "display_data"
    }
   ],
   "source": [
    "#Netflix Genres\n",
    "\n",
    "data_genres = cleaned_data.iloc[:, 13:]\n",
    "_ = data_genres.sum().sort_values(ascending=False).plot(kind='bar')\n",
    "plt.show()"
   ]
  },
  {
   "cell_type": "code",
   "execution_count": 17,
   "metadata": {
    "scrolled": true
   },
   "outputs": [
    {
     "data": {
      "image/png": "[encoded data removed]",
      "text/plain": [
       "<Figure size 432x288 with 1 Axes>"
      ]
     },
     "metadata": {
      "needs_background": "light"
     },
     "output_type": "display_data"
    }
   ],
   "source": [
    "#Top 10 Genres of Movies\n",
    "\n",
    "_ = cleaned_data[cleaned_data['type'] == 'movie'].iloc[:, 13:].sum().sort_values(ascending=False).head(10).plot(kind='bar')\n",
    "_ = plt.xlabel('Genres')\n",
    "_ = plt.ylabel('Number of Movies')\n",
    "plt.show()"
   ]
  },
  {
   "cell_type": "code",
   "execution_count": 18,
   "metadata": {
    "scrolled": true
   },
   "outputs": [
    {
     "data": {
      "image/png": "[encoded data removed]",
      "text/plain": [
       "<Figure size 432x288 with 1 Axes>"
      ]
     },
     "metadata": {
      "needs_background": "light"
     },
     "output_type": "display_data"
    }
   ],
   "source": [
    "#Top 10 Genres of TV Shows\n",
    "\n",
    "_ = cleaned_data[cleaned_data['type'] == 'tvSeries'].iloc[:, 13:].sum().sort_values(ascending=False).head(10).plot(kind='bar')\n",
    "_ = plt.xlabel('Genres')\n",
    "_ = plt.ylabel('Number of TV Shows')\n",
    "plt.show()"
   ]
  },
  {
   "cell_type": "code",
   "execution_count": 19,
   "metadata": {
    "scrolled": true
   },
   "outputs": [
    {
     "name": "stdout",
     "output_type": "stream",
     "text": [
      "Top Genres for both Movies & TV Shows: {'Action', 'Adventure', 'Comedy', 'Drama', 'Romance', 'Documentary', 'Crime'}\n",
      "Top Genres for TV Shows but not Movies: {'Fantasy', 'Animation', 'Mystery'}\n",
      "Top Genres for Movies but not TV Shows: {'Horror', 'Biography', 'Thriller'}\n"
     ]
    }
   ],
   "source": [
    "top_show_genres = set(cleaned_data[cleaned_data['type'] == 'tvSeries'].iloc[:, 13:].sum().sort_values(ascending=False).head(10).index)\n",
    "top_movie_genres = set(cleaned_data[cleaned_data['type'] == 'movie'].iloc[:, 13:].sum().sort_values(ascending=False).head(10).index)\n",
    "\n",
    "print('Top Genres for both Movies & TV Shows:', top_show_genres.intersection(top_movie_genres))\n",
    "print('Top Genres for TV Shows but not Movies:', top_show_genres.difference(top_movie_genres))\n",
    "print('Top Genres for Movies but not TV Shows:', top_movie_genres.difference(top_show_genres))"
   ]
  },
  {
   "cell_type": "code",
   "execution_count": 20,
   "metadata": {},
   "outputs": [],
   "source": [
    "#Top genres for TV shows and movies differ - animated TV shows are popular, but not animated movies, which makes sense,\n",
    "#since there are a lot of adult animated shows.\n",
    "#Conversely, thriller titles are much more prominent in movies than for TV shows."
   ]
  },
  {
   "cell_type": "code",
   "execution_count": 21,
   "metadata": {},
   "outputs": [
    {
     "data": {
      "image/png": "[encoded data removed]",
      "text/plain": [
       "<Figure size 432x288 with 1 Axes>"
      ]
     },
     "metadata": {
      "needs_background": "light"
     },
     "output_type": "display_data"
    }
   ],
   "source": [
    "#Analyze the genres of listings produced before 2010 and after 2010\n",
    "\n",
    "top_genres_before_2010 = cleaned_data[cleaned_data['startYear'] <= 2010].iloc[:, 13:].sum().sort_values(ascending=False).head(10)\n",
    "_ = top_genres_before_2010.plot(kind='bar')\n",
    "_ = plt.xlabel('Genre')\n",
    "_ = plt.ylabel('Number of Listings')\n",
    "_ = plt.title('Top Genres of Listings Produced Before 2010')\n",
    "plt.show()"
   ]
  },
  {
   "cell_type": "code",
   "execution_count": 22,
   "metadata": {},
   "outputs": [
    {
     "data": {
      "image/png": "[encoded data removed]",
      "text/plain": [
       "<Figure size 432x288 with 1 Axes>"
      ]
     },
     "metadata": {
      "needs_background": "light"
     },
     "output_type": "display_data"
    }
   ],
   "source": [
    "top_genres_after_2010 = cleaned_data[cleaned_data['startYear'] > 2010].iloc[:, 13:].sum().sort_values(ascending=False).head(10)\n",
    "_ = top_genres_after_2010.plot(kind='bar')\n",
    "_ = plt.xlabel('Genre')\n",
    "_ = plt.ylabel('Number of Listings')\n",
    "_ = plt.title('Top Genres of Listings Produced After 2010')\n",
    "plt.show()"
   ]
  },
  {
   "cell_type": "code",
   "execution_count": 23,
   "metadata": {},
   "outputs": [],
   "source": [
    "#Although there are many more titles produced after 2010 that are listed on Netflix, surprisingly, the top genres are very \n",
    "#similar. It looks like there is an increase in documentaries in the last decade (ranking went up from 7 to 4), \n",
    "#and a decrease in family listings (disappeared from top 10)."
   ]
  },
  {
   "cell_type": "code",
   "execution_count": 24,
   "metadata": {},
   "outputs": [
    {
     "data": {
      "image/png": "[encoded data removed]",
      "text/plain": [
       "<Figure size 432x288 with 1 Axes>"
      ]
     },
     "metadata": {
      "needs_background": "light"
     },
     "output_type": "display_data"
    }
   ],
   "source": [
    "#Taking a closer look at genres of movies and TV shows across the years\n",
    "\n",
    "top_tv_genres_before_2010 = cleaned_data[(cleaned_data['startYear'] <= 2010) & (cleaned_data['type'] <= 'tvSeries')].iloc[:, 13:].sum().sort_values(ascending=False).head(10)\n",
    "_ = top_tv_genres_before_2010.plot(kind='bar')\n",
    "_ = plt.xlabel('Genre')\n",
    "_ = plt.ylabel('Number of TV Shows')\n",
    "_ = plt.title('Top Genres of TV Shows Produced Before 2010')\n",
    "plt.show()"
   ]
  },
  {
   "cell_type": "code",
   "execution_count": 25,
   "metadata": {},
   "outputs": [
    {
     "data": {
      "image/png": "[encoded data removed]",
      "text/plain": [
       "<Figure size 432x288 with 1 Axes>"
      ]
     },
     "metadata": {
      "needs_background": "light"
     },
     "output_type": "display_data"
    }
   ],
   "source": [
    "top_tv_genres_after_2010 = cleaned_data[(cleaned_data['startYear'] > 2010) & (cleaned_data['type'] <= 'tvSeries')].iloc[:, 13:].sum().sort_values(ascending=False).head(10)\n",
    "_ = top_tv_genres_after_2010.plot(kind='bar')\n",
    "_ = plt.xlabel('Genre')\n",
    "_ = plt.ylabel('Number of TV Shows')\n",
    "_ = plt.title('Top Genres of TV Shows Produced After 2010')\n",
    "plt.show()"
   ]
  },
  {
   "cell_type": "code",
   "execution_count": 26,
   "metadata": {},
   "outputs": [],
   "source": [
    "#The trend of TV shows follows the same trend as overall listings, with an increase in documentaries and decrease in \n",
    "#family shows."
   ]
  },
  {
   "cell_type": "code",
   "execution_count": 27,
   "metadata": {},
   "outputs": [
    {
     "data": {
      "image/png": "[encoded data removed]",
      "text/plain": [
       "<Figure size 432x288 with 1 Axes>"
      ]
     },
     "metadata": {
      "needs_background": "light"
     },
     "output_type": "display_data"
    }
   ],
   "source": [
    "top_movie_genres_before_2010 = cleaned_data[(cleaned_data['startYear'] <= 2010) & (cleaned_data['type'] <= 'movie')].iloc[:, 13:].sum().sort_values(ascending=False).head(10)\n",
    "_ = top_movie_genres_before_2010.plot(kind='bar')\n",
    "_ = plt.xlabel('Genre')\n",
    "_ = plt.ylabel('Number of Movies')\n",
    "_ = plt.title('Top Genres of Movies Produced Before 2010')\n",
    "plt.show()"
   ]
  },
  {
   "cell_type": "code",
   "execution_count": 28,
   "metadata": {},
   "outputs": [
    {
     "data": {
      "image/png": "[encoded data removed]",
      "text/plain": [
       "<Figure size 432x288 with 1 Axes>"
      ]
     },
     "metadata": {
      "needs_background": "light"
     },
     "output_type": "display_data"
    }
   ],
   "source": [
    "top_movie_genres_after_2010 = cleaned_data[(cleaned_data['startYear'] > 2010) & (cleaned_data['type'] <= 'movie')].iloc[:, 13:].sum().sort_values(ascending=False).head(10)\n",
    "_ = top_movie_genres_after_2010.plot(kind='bar')\n",
    "_ = plt.xlabel('Genre')\n",
    "_ = plt.ylabel('Number of Movies')\n",
    "_ = plt.title('Top Genres of Movies Produced After 2010')\n",
    "plt.show()"
   ]
  },
  {
   "cell_type": "code",
   "execution_count": 29,
   "metadata": {},
   "outputs": [],
   "source": [
    "#The trend of movies is slightly different from that of TV shows. There is still a large increase in documentaries, but\n",
    "#we also see an increase in thriller films, and a decrease in crime and adventure films. Animation films disappear completely\n",
    "#from the top 10 and is replaced by biography films."
   ]
  },
  {
   "cell_type": "code",
   "execution_count": 30,
   "metadata": {},
   "outputs": [],
   "source": [
    "#Overall, the top genres of listings are similar across the years, with more variance in movies than in TV shows. The main \n",
    "#difference is in the amount of documentaries offered on Netflix (both film and TV shows), which rose heavily over the \n",
    "#last 10 years. Although there are more movies offered on Netflix than TV shows, the overall trend of top genres over \n",
    "#the years is more similar to the trend of TV shows. \n",
    "\n",
    "#The hypothesis that there is an increase in science fiction titles was incorrect, and it is also not in the top 10 genres\n",
    "#offered on Netflix.\n",
    "\n",
    "#Most of the top genres between movies and TV shows are the same, with a couple of exceptions, namely animation genre \n",
    "#for TV shows (rank 3), and thriller genre for movies (rank 5)."
   ]
  }
 ],
 "metadata": {
  "kernelspec": {
   "display_name": "Python 3",
   "language": "python",
   "name": "python3"
  },
  "language_info": {
   "codemirror_mode": {
    "name": "ipython",
    "version": 3
   },
   "file_extension": ".py",
   "mimetype": "text/x-python",
   "name": "python",
   "nbconvert_exporter": "python",
   "pygments_lexer": "ipython3",
   "version": "3.8.5"
  }
 },
 "nbformat": 4,
 "nbformat_minor": 4
}
